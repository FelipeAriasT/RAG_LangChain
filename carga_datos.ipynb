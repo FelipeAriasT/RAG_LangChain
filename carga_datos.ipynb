{
 "cells": [
  {
   "cell_type": "code",
   "execution_count": 1,
   "metadata": {},
   "outputs": [],
   "source": [
    "import json"
   ]
  },
  {
   "cell_type": "code",
   "execution_count": 16,
   "metadata": {},
   "outputs": [],
   "source": [
    "output_file_2 = \"/workspaces/RAG_LangChain/data/chunks_docs/chunks_golondrinas_v2.json\"\n",
    "from unstructured.staging.base import dict_to_elements, elements_to_json\n",
    "\n",
    "with open(output_file_2, 'r', encoding='utf-8') as f:\n",
    "    json_data = f.read()\n",
    "\n",
    "# Convertir la cadena JSON en una lista de diccionarios\n",
    "element_dicts = json.loads(json_data)\n",
    "\n",
    "# Verificar que element_dicts es una lista de diccionarios\n",
    "if isinstance(element_dicts, list) and all(isinstance(d, dict) for d in element_dicts):\n",
    "    # Convertir los diccionarios en elementos utilizando dict_to_elements\n",
    "    loaded_chunks = dict_to_elements(element_dicts)\n",
    "else:\n",
    "    raise ValueError(\"El contenido del archivo JSON no es una lista de diccionarios válida.\")"
   ]
  },
  {
   "cell_type": "code",
   "execution_count": 18,
   "metadata": {},
   "outputs": [
    {
     "data": {
      "text/plain": [
       "35"
      ]
     },
     "execution_count": 18,
     "metadata": {},
     "output_type": "execute_result"
    }
   ],
   "source": [
    "len(loaded_chunks)"
   ]
  },
  {
   "cell_type": "code",
   "execution_count": null,
   "metadata": {},
   "outputs": [],
   "source": [
    "# Get the images from the CompositeElement objects\n",
    "def get_images_base64(chunks):\n",
    "    images_b64 = []\n",
    "    for chunk in chunks:\n",
    "        if \"CompositeElement\" in chunk['type']:\n",
    "            chunk_els = chunks\n",
    "            for el in chunk_els:\n",
    "                if \"Image\" in str(type(el)):\n",
    "                    images_b64.append(el.metadata.image_base64)\n",
    "    return images_b64\n",
    "\n",
    "images = get_images_base64(chunks_data)"
   ]
  },
  {
   "cell_type": "code",
   "execution_count": 5,
   "metadata": {},
   "outputs": [
    {
     "data": {
      "text/plain": [
       "[]"
      ]
     },
     "execution_count": 5,
     "metadata": {},
     "output_type": "execute_result"
    }
   ],
   "source": [
    "images"
   ]
  },
  {
   "cell_type": "code",
   "execution_count": null,
   "metadata": {},
   "outputs": [],
   "source": []
  }
 ],
 "metadata": {
  "kernelspec": {
   "display_name": "Python 3",
   "language": "python",
   "name": "python3"
  },
  "language_info": {
   "codemirror_mode": {
    "name": "ipython",
    "version": 3
   },
   "file_extension": ".py",
   "mimetype": "text/x-python",
   "name": "python",
   "nbconvert_exporter": "python",
   "pygments_lexer": "ipython3",
   "version": "3.12.1"
  }
 },
 "nbformat": 4,
 "nbformat_minor": 2
}

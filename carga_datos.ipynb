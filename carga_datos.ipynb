{
 "cells": [
  {
   "cell_type": "markdown",
   "metadata": {},
   "source": [
    "# Procesador de archivos"
   ]
  },
  {
   "cell_type": "code",
   "execution_count": 34,
   "metadata": {},
   "outputs": [],
   "source": [
    "import utils_rag as ur\n",
    "import os\n",
    "import json\n",
    "from concurrent.futures import ThreadPoolExecutor"
   ]
  },
  {
   "cell_type": "code",
   "execution_count": 21,
   "metadata": {},
   "outputs": [
    {
     "name": "stdout",
     "output_type": "stream",
     "text": [
      "['data/docs/DT_Golondrinas.pdf', 'data/docs/Implementacion-y-aplicaciones-de-un-sistema-de-codificacion-automatica-de-la-lista-de-espera-chilena.pdf', 'data/docs/DeepSeek_R1.pdf']\n"
     ]
    }
   ],
   "source": [
    "\n",
    "def get_documents_by_extensions(folder_path, extensions):\n",
    "    \"\"\"\n",
    "    Obtiene los nombres de los documentos en una carpeta que terminan con una o varias extensiones específicas.\n",
    "\n",
    "    :param folder_path: Ruta de la carpeta\n",
    "    :param extensions: Lista de extensiones de archivo (por ejemplo, ['.txt', '.pdf'])\n",
    "    :return: Lista de nombres de archivos con las extensiones especificadas\n",
    "    \"\"\"\n",
    "    documents = []\n",
    "    for filename in os.listdir(folder_path):\n",
    "        if any(filename.endswith(ext) for ext in extensions):\n",
    "            documents.append(folder_path+'/'+filename)\n",
    "    return documents\n",
    "\n",
    "# Ejemplo de uso\n",
    "folder_path = 'data/docs'\n",
    "extensions = ['.txt', '.pdf']\n",
    "print(get_documents_by_extensions(folder_path, extensions))\n",
    "file_paths=get_documents_by_extensions(folder_path, extensions)"
   ]
  },
  {
   "cell_type": "code",
   "execution_count": 36,
   "metadata": {},
   "outputs": [],
   "source": [
    "def generate_file_paths_and_dicts(file_paths):\n",
    "    \"\"\"\n",
    "    Genera las rutas de salida y un diccionario con la estructura especificada para una lista de archivos.\n",
    "\n",
    "    :param file_paths: Lista de rutas de archivos de entrada\n",
    "    :return: Diccionario con las rutas generadas para cada archivo\n",
    "    \"\"\"\n",
    "    dict_files = {}\n",
    "    \n",
    "    for i, file_path in enumerate(file_paths, start=1):\n",
    "        base_name = os.path.basename(file_path)\n",
    "        name, ext = os.path.splitext(base_name)\n",
    "        \n",
    "     \n",
    "        output_file_2 = os.path.join(\"data/chunks_docs\", f\"chunks_{name}.json\")\n",
    "        \n",
    "        dict_files[f\"file{i}\"] = {\n",
    "            \"file_path\": file_path,\n",
    "            \"output_path\": output_file_2,\n",
    "        }\n",
    "\n",
    "    with open(\"data/chunks_docs/dict_pdfs.json\", 'w') as json_file:\n",
    "        json.dump(dict_files, json_file, indent=4)\n",
    "    \n",
    "    return dict_files"
   ]
  },
  {
   "cell_type": "code",
   "execution_count": 37,
   "metadata": {},
   "outputs": [
    {
     "name": "stdout",
     "output_type": "stream",
     "text": [
      "{'file1': {'file_path': 'data/docs/DT_Golondrinas.pdf', 'output_path': 'data/chunks_docs/chunks_DT_Golondrinas.json'}, 'file2': {'file_path': 'data/docs/Implementacion-y-aplicaciones-de-un-sistema-de-codificacion-automatica-de-la-lista-de-espera-chilena.pdf', 'output_path': 'data/chunks_docs/chunks_Implementacion-y-aplicaciones-de-un-sistema-de-codificacion-automatica-de-la-lista-de-espera-chilena.json'}, 'file3': {'file_path': 'data/docs/DeepSeek_R1.pdf', 'output_path': 'data/chunks_docs/chunks_DeepSeek_R1.json'}}\n"
     ]
    }
   ],
   "source": [
    "dict_pdfs=generate_file_paths_and_dicts(file_paths)\n",
    "print(dict_pdfs)"
   ]
  },
  {
   "cell_type": "code",
   "execution_count": 32,
   "metadata": {},
   "outputs": [],
   "source": [
    "\n",
    "\n",
    "def process_document(file_info, ejecutar_pdf):\n",
    "    \"\"\"\n",
    "    Procesa un documento si el archivo de salida no existe.\n",
    "\n",
    "    :param file_info: Diccionario con la información del archivo\n",
    "    :param ejecutar_pdf: Parámetro para la función ejecutar_chunking_pdf\n",
    "    :return: True si el archivo fue procesado, False si ya existía el archivo de salida\n",
    "    \"\"\"\n",
    "    output_path = file_info['output_path']\n",
    "    if os.path.isfile(output_path):\n",
    "        return False\n",
    "    else:\n",
    "        uu.ejecutar_chunking_pdf(file_info, ejecutar_pdf=ejecutar_pdf)\n",
    "        return True\n",
    "\n",
    "def process_documents(dict_pdfs, ejecutar_pdf, parallel=False):\n",
    "    \"\"\"\n",
    "    Procesa una lista de documentos, verificando si el archivo de salida existe.\n",
    "\n",
    "    :param dict_pdfs: Diccionario con la información de los archivos\n",
    "    :param ejecutar_pdf: Parámetro para la función ejecutar_chunking_pdf\n",
    "    :param parallel: Booleano para indicar si se debe paralelizar el procesamiento\n",
    "    :return: Lista de resultados indicando si cada archivo fue procesado\n",
    "    \"\"\"\n",
    "    if parallel:\n",
    "        with ThreadPoolExecutor() as executor:\n",
    "            results = list(executor.map(lambda item: process_document(item[1], ejecutar_pdf), dict_pdfs.items()))\n",
    "    else:\n",
    "        results = [process_document(file_info, ejecutar_pdf) for file_info in dict_pdfs.values()]\n",
    "    \n",
    "    return results"
   ]
  },
  {
   "cell_type": "code",
   "execution_count": 33,
   "metadata": {},
   "outputs": [
    {
     "name": "stdout",
     "output_type": "stream",
     "text": [
      "[True, True, False]\n"
     ]
    }
   ],
   "source": [
    "ejecutar_pdf = True\n",
    "print(process_documents(dict_pdfs, ejecutar_pdf, parallel=True))"
   ]
  },
  {
   "cell_type": "code",
   "execution_count": null,
   "metadata": {},
   "outputs": [],
   "source": []
  },
  {
   "cell_type": "markdown",
   "metadata": {},
   "source": []
  }
 ],
 "metadata": {
  "kernelspec": {
   "display_name": "Python 3",
   "language": "python",
   "name": "python3"
  },
  "language_info": {
   "codemirror_mode": {
    "name": "ipython",
    "version": 3
   },
   "file_extension": ".py",
   "mimetype": "text/x-python",
   "name": "python",
   "nbconvert_exporter": "python",
   "pygments_lexer": "ipython3",
   "version": "3.11.11"
  }
 },
 "nbformat": 4,
 "nbformat_minor": 2
}
